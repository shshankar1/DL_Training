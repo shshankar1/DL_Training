{
 "cells": [
  {
   "cell_type": "markdown",
   "metadata": {},
   "source": [
    "<b>1. Write a program which will find all such numbers which are divisible by 7 but are not amultiple of 5, between 2000 and 3200 (both included). The numbers obtained should be printed\n",
    "in a comma-separated sequence on a single line.</b>"
   ]
  },
  {
   "cell_type": "code",
   "execution_count": 5,
   "metadata": {},
   "outputs": [
    {
     "name": "stdout",
     "output_type": "stream",
     "text": [
      "2002, 2009, 2016, 2023, 2037, 2044, 2051, 2058, 2072, 2079, 2086, 2093, 2107, 2114, 2121, 2128, 2142, 2149, 2156, 2163, 2177, 2184, 2191, 2198, 2212, 2219, 2226, 2233, 2247, 2254, 2261, 2268, 2282, 2289, 2296, 2303, 2317, 2324, 2331, 2338, 2352, 2359, 2366, 2373, 2387, 2394, 2401, 2408, 2422, 2429, 2436, 2443, 2457, 2464, 2471, 2478, 2492, 2499, 2506, 2513, 2527, 2534, 2541, 2548, 2562, 2569, 2576, 2583, 2597, 2604, 2611, 2618, 2632, 2639, 2646, 2653, 2667, 2674, 2681, 2688, 2702, 2709, 2716, 2723, 2737, 2744, 2751, 2758, 2772, 2779, 2786, 2793, 2807, 2814, 2821, 2828, 2842, 2849, 2856, 2863, 2877, 2884, 2891, 2898, 2912, 2919, 2926, 2933, 2947, 2954, 2961, 2968, 2982, 2989, 2996\n"
     ]
    }
   ],
   "source": [
    "class CustomAlgebra:\n",
    "    def get_number_divisible_by7_not5(self, min, max):\n",
    "        result = []\n",
    "        for i in range(min, max+1, 1):\n",
    "            if i%7 == 0 and i%5 != 0:\n",
    "                result.append(i)\n",
    "        return ', '.join([str(i) for i in result])\n",
    "    \n",
    "customAlgebra = CustomAlgebra()\n",
    "print(customAlgebra.get_number_divisible_by7_not5(2000,3000))\n",
    "        "
   ]
  },
  {
   "cell_type": "markdown",
   "metadata": {},
   "source": [
    "<b>2. Write a Python program to accept the user's first and last name and then getting them\n",
    "printed in the the reverse order with a space between first name and last name.</b>"
   ]
  },
  {
   "cell_type": "code",
   "execution_count": 10,
   "metadata": {},
   "outputs": [
    {
     "name": "stdout",
     "output_type": "stream",
     "text": [
      "Enter First Name: Shashi\n",
      "Enter Last Name: Shankar\n",
      "raknahS ihsahS\n"
     ]
    }
   ],
   "source": [
    "class ReverseOrderPrinter:\n",
    "    def print(self, string):\n",
    "        return \"\".join(reversed(string))\n",
    "    \n",
    "printer = ReverseOrderPrinter()\n",
    "first_name = input('Enter First Name: ')\n",
    "last_name = input('Enter Last Name: ')\n",
    "print(printer.print(first_name+' '+last_name))"
   ]
  },
  {
   "cell_type": "markdown",
   "metadata": {},
   "source": [
    "<b>3. Write a Python program to find the volume of a sphere with diameter 12 cm.\n",
    "Formula: V=4/3 * π * r3</b>"
   ]
  },
  {
   "cell_type": "code",
   "execution_count": 12,
   "metadata": {},
   "outputs": [
    {
     "name": "stdout",
     "output_type": "stream",
     "text": [
      "7238.229473870883\n"
     ]
    }
   ],
   "source": [
    "from math import pi\n",
    "class Sphere:\n",
    "    def calc_volume(self, radius):\n",
    "        return 4*pi*(radius**3)/3\n",
    "    \n",
    "sphere = Sphere()\n",
    "print(sphere.calc_volume(12))"
   ]
  }
 ],
 "metadata": {
  "kernelspec": {
   "display_name": "Python 3",
   "language": "python",
   "name": "python3"
  },
  "language_info": {
   "codemirror_mode": {
    "name": "ipython",
    "version": 3
   },
   "file_extension": ".py",
   "mimetype": "text/x-python",
   "name": "python",
   "nbconvert_exporter": "python",
   "pygments_lexer": "ipython3",
   "version": "3.6.8"
  }
 },
 "nbformat": 4,
 "nbformat_minor": 4
}
