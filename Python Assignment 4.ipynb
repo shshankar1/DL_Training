{
 "cells": [
  {
   "cell_type": "markdown",
   "metadata": {},
   "source": [
    "#### 1.1 Write a Python Program(with class concepts) to find the area of the triangle using the below formula.\n",
    "#### area = (s*(s-a)*(s-b)*(s-c)) ** 0.5\n",
    "#### Function to take the length of the sides of triangle from user should be defined in the parent\n",
    "#### class and function to calculate the area should be defined in subclass."
   ]
  },
  {
   "cell_type": "code",
   "execution_count": 1,
   "metadata": {},
   "outputs": [
    {
     "name": "stdout",
     "output_type": "stream",
     "text": [
      "Enter value for a:3\n",
      "Enter value for b:4\n",
      "Enter value for c:5\n",
      "6.0\n"
     ]
    }
   ],
   "source": [
    "import math \n",
    "class BaseTriangle:\n",
    "    def __init__(self):\n",
    "        self.a = None\n",
    "        self.b = None\n",
    "        self.c = None\n",
    "        \n",
    "    def get_param(self):\n",
    "        self.a = int(input('Enter value for a:'))\n",
    "        self.b = int(input('Enter value for b:'))\n",
    "        self.c = int(input('Enter value for c:'))\n",
    "        \n",
    "class Triangle(BaseTriangle):\n",
    "    def area(self):\n",
    "        s = (self.a+self.b+self.c)/2\n",
    "        return math.sqrt(s*(s-self.a)*(s-self.b)*(s-self.c))\n",
    "    \n",
    "t = Triangle()\n",
    "t.get_param()\n",
    "print(t.area())"
   ]
  },
  {
   "cell_type": "markdown",
   "metadata": {},
   "source": [
    "#### 1.2 Write a function filter_long_words() that takes a list of words and an integer n and returns the list of words that are longer than n."
   ]
  },
  {
   "cell_type": "code",
   "execution_count": 2,
   "metadata": {},
   "outputs": [
    {
     "name": "stdout",
     "output_type": "stream",
     "text": [
      "['shankar']\n"
     ]
    }
   ],
   "source": [
    "def filter_long_words(words, n):\n",
    "    filtered_words = []\n",
    "    for word in words:\n",
    "        if len(word) > n:\n",
    "            filtered_words.append(word)\n",
    "    return filtered_words\n",
    "\n",
    "print(filter_long_words(['shashi', 'shankar'], 6))"
   ]
  },
  {
   "cell_type": "markdown",
   "metadata": {},
   "source": [
    "#### 2.1 Write a Python program using function concept that maps list of words into a list of integers\n",
    "#### representing the lengths of the corresponding words.\n",
    "#### Hint: If a list [ ab,cde,erty] is passed on to the python function output should come as [2,3,4]\n",
    "#### Here 2,3 and 4 are the lengths of the words in the list."
   ]
  },
  {
   "cell_type": "code",
   "execution_count": 3,
   "metadata": {},
   "outputs": [
    {
     "name": "stdout",
     "output_type": "stream",
     "text": [
      "[1, 2, 4]\n"
     ]
    }
   ],
   "source": [
    "def length_transform(words):\n",
    "    if words is not None:\n",
    "        return [len(word) for word in words]\n",
    "    else:\n",
    "        None\n",
    "        \n",
    "print(length_transform(['A', 'AA', 'BBBB']))"
   ]
  },
  {
   "cell_type": "markdown",
   "metadata": {},
   "source": [
    "#### 2.2 Write a Python function which takes a character (i.e. a string of length 1) and returns True if it is a vowel, False otherwise."
   ]
  },
  {
   "cell_type": "code",
   "execution_count": 5,
   "metadata": {},
   "outputs": [
    {
     "name": "stdout",
     "output_type": "stream",
     "text": [
      "False\n",
      "True\n"
     ]
    }
   ],
   "source": [
    "vowels = ['a','e','i', 'o', 'u']\n",
    "def is_vowel(char):\n",
    "    return char in vowels\n",
    "\n",
    "print(is_vowel('s'))\n",
    "print(is_vowel('i'))"
   ]
  }
 ],
 "metadata": {
  "kernelspec": {
   "display_name": "Python 3",
   "language": "python",
   "name": "python3"
  },
  "language_info": {
   "codemirror_mode": {
    "name": "ipython",
    "version": 3
   },
   "file_extension": ".py",
   "mimetype": "text/x-python",
   "name": "python",
   "nbconvert_exporter": "python",
   "pygments_lexer": "ipython3",
   "version": "3.6.8"
  }
 },
 "nbformat": 4,
 "nbformat_minor": 4
}
